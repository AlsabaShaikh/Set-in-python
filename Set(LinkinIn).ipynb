{
 "cells": [
  {
   "cell_type": "markdown",
   "id": "6c1f842c",
   "metadata": {},
   "source": [
    "# Sets"
   ]
  },
  {
   "cell_type": "markdown",
   "id": "26418f7d",
   "metadata": {},
   "source": [
    "### 1)Unordered and Unindexed collection of items.\n",
    "###  2)Set element are unique.Duplicate elemens are not allowed\n",
    "###  3)Set element are immutable(cannot be changed)\n",
    "###  4)Set itself is mutable.We can add or remove items from it"
   ]
  },
  {
   "cell_type": "markdown",
   "id": "804ba80c",
   "metadata": {},
   "source": [
    "# 1) Set Creation"
   ]
  },
  {
   "cell_type": "code",
   "execution_count": 1,
   "id": "adb7a991",
   "metadata": {},
   "outputs": [
    {
     "name": "stdout",
     "output_type": "stream",
     "text": [
      "<class 'set'>\n"
     ]
    }
   ],
   "source": [
    "set4=set()\n",
    "print(type(set4))"
   ]
  },
  {
   "cell_type": "code",
   "execution_count": 2,
   "id": "ed2625e4",
   "metadata": {},
   "outputs": [
    {
     "data": {
      "text/plain": [
       "{1, 2, 3, 4, 5, 6}"
      ]
     },
     "execution_count": 2,
     "metadata": {},
     "output_type": "execute_result"
    }
   ],
   "source": [
    "set={1,2,3,4,5,6}   #Set of integer\n",
    "set"
   ]
  },
  {
   "cell_type": "code",
   "execution_count": 3,
   "id": "edc577ad",
   "metadata": {},
   "outputs": [
    {
     "data": {
      "text/plain": [
       "6"
      ]
     },
     "execution_count": 3,
     "metadata": {},
     "output_type": "execute_result"
    }
   ],
   "source": [
    "len(set)"
   ]
  },
  {
   "cell_type": "code",
   "execution_count": 4,
   "id": "b02db3f8",
   "metadata": {},
   "outputs": [
    {
     "data": {
      "text/plain": [
       "{1.4, 56.89, 98.56, 346.4}"
      ]
     },
     "execution_count": 4,
     "metadata": {},
     "output_type": "execute_result"
    }
   ],
   "source": [
    "set1={1.4,346.4,98.56,56.89}   #Set of float\n",
    "set1"
   ]
  },
  {
   "cell_type": "code",
   "execution_count": 5,
   "id": "bfd3af38",
   "metadata": {},
   "outputs": [
    {
     "data": {
      "text/plain": [
       "{'Ashok', 'Josh', 'Mamta', 'Priya'}"
      ]
     },
     "execution_count": 5,
     "metadata": {},
     "output_type": "execute_result"
    }
   ],
   "source": [
    "set2={'Ashok','Priya','Mamta','Josh'}    #Set of string\n",
    "set2"
   ]
  },
  {
   "cell_type": "code",
   "execution_count": 6,
   "id": "fd92e9cf",
   "metadata": {},
   "outputs": [
    {
     "data": {
      "text/plain": [
       "{1, 3, 4, 5, 6, 7, 8, 9}"
      ]
     },
     "execution_count": 6,
     "metadata": {},
     "output_type": "execute_result"
    }
   ],
   "source": [
    "set3={1,1,1,3,4,5,6,7,8,9}         #Set cannot print duplicate values\n",
    "set3"
   ]
  },
  {
   "cell_type": "code",
   "execution_count": 7,
   "id": "3d76648e",
   "metadata": {},
   "outputs": [
    {
     "data": {
      "text/plain": [
       "{(2, 4, 5), 23, 56, 67, 'Ashok'}"
      ]
     },
     "execution_count": 7,
     "metadata": {},
     "output_type": "execute_result"
    }
   ],
   "source": [
    "set={'Ashok',23,56,67,(2,4,5)}      #Set of Mixed Datatype\n",
    "set"
   ]
  },
  {
   "cell_type": "markdown",
   "id": "22c0f58c",
   "metadata": {},
   "source": [
    "# 2)Loop through a Set"
   ]
  },
  {
   "cell_type": "code",
   "execution_count": 8,
   "id": "37b59707",
   "metadata": {},
   "outputs": [
    {
     "name": "stdout",
     "output_type": "stream",
     "text": [
      "Four\n",
      "Five\n",
      "Three\n",
      "one\n",
      "Two\n",
      "Six\n"
     ]
    }
   ],
   "source": [
    "set6={'one','Two','Three','Four','Five','Six'}\n",
    "for i in set6:\n",
    "    print(i)"
   ]
  },
  {
   "cell_type": "code",
   "execution_count": 9,
   "id": "ffba9752",
   "metadata": {},
   "outputs": [
    {
     "name": "stdout",
     "output_type": "stream",
     "text": [
      "(0, 'Four')\n",
      "(1, 'Five')\n",
      "(2, 'Three')\n",
      "(3, 'one')\n",
      "(4, 'Two')\n",
      "(5, 'Six')\n"
     ]
    }
   ],
   "source": [
    "for i in enumerate(set6):\n",
    "    print(i)"
   ]
  },
  {
   "cell_type": "markdown",
   "id": "ba7c4d3c",
   "metadata": {},
   "source": [
    "# 3)Set Membership"
   ]
  },
  {
   "cell_type": "code",
   "execution_count": 10,
   "id": "c38c03bc",
   "metadata": {},
   "outputs": [
    {
     "data": {
      "text/plain": [
       "{'Five', 'Four', 'Six', 'Three', 'Two', 'one'}"
      ]
     },
     "execution_count": 10,
     "metadata": {},
     "output_type": "execute_result"
    }
   ],
   "source": [
    "set6"
   ]
  },
  {
   "cell_type": "code",
   "execution_count": 11,
   "id": "aa33a296",
   "metadata": {},
   "outputs": [
    {
     "data": {
      "text/plain": [
       "True"
      ]
     },
     "execution_count": 11,
     "metadata": {},
     "output_type": "execute_result"
    }
   ],
   "source": [
    "'one'in set6"
   ]
  },
  {
   "cell_type": "code",
   "execution_count": 12,
   "id": "96167f0b",
   "metadata": {},
   "outputs": [
    {
     "data": {
      "text/plain": [
       "False"
      ]
     },
     "execution_count": 12,
     "metadata": {},
     "output_type": "execute_result"
    }
   ],
   "source": [
    "'ten' in set6"
   ]
  },
  {
   "cell_type": "code",
   "execution_count": 13,
   "id": "4c18aae1",
   "metadata": {},
   "outputs": [
    {
     "name": "stdout",
     "output_type": "stream",
     "text": [
      "Yeah it is present\n"
     ]
    }
   ],
   "source": [
    "if 'Three' in set6:\n",
    "    print('Yeah it is present')\n",
    "else:\n",
    "    print('No it is not present')"
   ]
  },
  {
   "cell_type": "code",
   "execution_count": 14,
   "id": "7f66b96b",
   "metadata": {},
   "outputs": [
    {
     "name": "stdout",
     "output_type": "stream",
     "text": [
      "No it is not present\n"
     ]
    }
   ],
   "source": [
    "if 'Ten' in set6:\n",
    "    print('Yeah it is present')\n",
    "else:\n",
    "    print('No it is not present')"
   ]
  },
  {
   "cell_type": "markdown",
   "id": "5f997db8",
   "metadata": {},
   "source": [
    "# 4)Add and Remove Items"
   ]
  },
  {
   "cell_type": "code",
   "execution_count": 15,
   "id": "ecc5bcd7",
   "metadata": {},
   "outputs": [
    {
     "data": {
      "text/plain": [
       "{'Five', 'Four', 'Six', 'Three', 'Two', 'one'}"
      ]
     },
     "execution_count": 15,
     "metadata": {},
     "output_type": "execute_result"
    }
   ],
   "source": [
    "set6"
   ]
  },
  {
   "cell_type": "code",
   "execution_count": 16,
   "id": "2c1f7c0b",
   "metadata": {},
   "outputs": [
    {
     "data": {
      "text/plain": [
       "{'Five', 'Four', 'Nine', 'Six', 'Three', 'Two', 'one'}"
      ]
     },
     "execution_count": 16,
     "metadata": {},
     "output_type": "execute_result"
    }
   ],
   "source": [
    "set6.add('Nine')  #Add item to a set using add() method\n",
    "set6"
   ]
  },
  {
   "cell_type": "code",
   "execution_count": 17,
   "id": "d018aad9",
   "metadata": {},
   "outputs": [
    {
     "data": {
      "text/plain": [
       "{'Eleven',\n",
       " 'Five',\n",
       " 'Four',\n",
       " 'Nine',\n",
       " 'Six',\n",
       " 'Ten',\n",
       " 'Three',\n",
       " 'Twelve',\n",
       " 'Two',\n",
       " 'one'}"
      ]
     },
     "execution_count": 17,
     "metadata": {},
     "output_type": "execute_result"
    }
   ],
   "source": [
    "set6.update(['Ten','Eleven','Twelve'])    #Add multiple item to set using update()\n",
    "set6"
   ]
  },
  {
   "cell_type": "code",
   "execution_count": 18,
   "id": "893cecbd",
   "metadata": {},
   "outputs": [
    {
     "data": {
      "text/plain": [
       "{'Five', 'Four', 'Nine', 'Six', 'Ten', 'Three', 'Twelve', 'Two', 'one'}"
      ]
     },
     "execution_count": 18,
     "metadata": {},
     "output_type": "execute_result"
    }
   ],
   "source": [
    "set6.remove('Eleven')        #Remove the item using remove()\n",
    "set6  "
   ]
  },
  {
   "cell_type": "code",
   "execution_count": 19,
   "id": "c5f72b97",
   "metadata": {},
   "outputs": [
    {
     "data": {
      "text/plain": [
       "{'Five', 'Four', 'Nine', 'Six', 'Three', 'Twelve', 'Two', 'one'}"
      ]
     },
     "execution_count": 19,
     "metadata": {},
     "output_type": "execute_result"
    }
   ],
   "source": [
    "set6.discard('Ten')   #Remove item using discard method\n",
    "set6"
   ]
  },
  {
   "cell_type": "code",
   "execution_count": 20,
   "id": "ccadd26d",
   "metadata": {},
   "outputs": [
    {
     "data": {
      "text/plain": [
       "set()"
      ]
     },
     "execution_count": 20,
     "metadata": {},
     "output_type": "execute_result"
    }
   ],
   "source": [
    "set6.clear()\n",
    "set6"
   ]
  },
  {
   "cell_type": "code",
   "execution_count": 21,
   "id": "18b3ca6a",
   "metadata": {},
   "outputs": [
    {
     "ename": "NameError",
     "evalue": "name 'set6' is not defined",
     "output_type": "error",
     "traceback": [
      "\u001b[1;31m---------------------------------------------------------------------------\u001b[0m",
      "\u001b[1;31mNameError\u001b[0m                                 Traceback (most recent call last)",
      "Input \u001b[1;32mIn [21]\u001b[0m, in \u001b[0;36m<cell line: 2>\u001b[1;34m()\u001b[0m\n\u001b[0;32m      1\u001b[0m \u001b[38;5;28;01mdel\u001b[39;00m set6\n\u001b[1;32m----> 2\u001b[0m \u001b[43mset6\u001b[49m\n",
      "\u001b[1;31mNameError\u001b[0m: name 'set6' is not defined"
     ]
    }
   ],
   "source": [
    "del set6    #delete the set object\n",
    "set6"
   ]
  },
  {
   "cell_type": "markdown",
   "id": "237b5800",
   "metadata": {},
   "source": [
    "# 5) Copy set"
   ]
  },
  {
   "cell_type": "code",
   "execution_count": 23,
   "id": "098d26f0",
   "metadata": {},
   "outputs": [
    {
     "data": {
      "text/plain": [
       "{'Five', 'Four', 'Six', 'Three', 'Two', 'one'}"
      ]
     },
     "execution_count": 23,
     "metadata": {},
     "output_type": "execute_result"
    }
   ],
   "source": [
    "set6={'Five', 'Four', 'Six', 'Three', 'Two', 'one'}\n",
    "set6"
   ]
  },
  {
   "cell_type": "code",
   "execution_count": 25,
   "id": "b6cce4b9",
   "metadata": {},
   "outputs": [
    {
     "data": {
      "text/plain": [
       "{'Five', 'Four', 'Six', 'Three', 'Two', 'one'}"
      ]
     },
     "execution_count": 25,
     "metadata": {},
     "output_type": "execute_result"
    }
   ],
   "source": [
    "set7=set6.copy()\n",
    "set7"
   ]
  },
  {
   "cell_type": "markdown",
   "id": "aafe4e2b",
   "metadata": {},
   "source": [
    "# 6)Set Operation"
   ]
  },
  {
   "cell_type": "markdown",
   "id": "abbb77a4",
   "metadata": {},
   "source": [
    "### Union"
   ]
  },
  {
   "cell_type": "code",
   "execution_count": 26,
   "id": "c5a1a2b7",
   "metadata": {},
   "outputs": [],
   "source": [
    "A={1,2,3,4,5}\n",
    "B={6,7,8,9}\n",
    "C={10,11,12,13,14,15}"
   ]
  },
  {
   "cell_type": "code",
   "execution_count": 27,
   "id": "66de5e28",
   "metadata": {},
   "outputs": [
    {
     "data": {
      "text/plain": [
       "{1, 2, 3, 4, 5, 6, 7, 8, 9, 10, 11, 12, 13, 14, 15}"
      ]
     },
     "execution_count": 27,
     "metadata": {},
     "output_type": "execute_result"
    }
   ],
   "source": [
    "A|B|C"
   ]
  },
  {
   "cell_type": "code",
   "execution_count": 28,
   "id": "f55f6bd7",
   "metadata": {},
   "outputs": [
    {
     "data": {
      "text/plain": [
       "{1, 2, 3, 4, 5, 6, 7, 8, 9}"
      ]
     },
     "execution_count": 28,
     "metadata": {},
     "output_type": "execute_result"
    }
   ],
   "source": [
    "A.union(B)"
   ]
  },
  {
   "cell_type": "code",
   "execution_count": 29,
   "id": "5ea332b9",
   "metadata": {},
   "outputs": [
    {
     "data": {
      "text/plain": [
       "{1, 2, 3, 4, 5, 6, 7, 8, 9, 10, 11, 12, 13, 14, 15}"
      ]
     },
     "execution_count": 29,
     "metadata": {},
     "output_type": "execute_result"
    }
   ],
   "source": [
    "A.union(B,C)"
   ]
  },
  {
   "cell_type": "markdown",
   "id": "c9d059af",
   "metadata": {},
   "source": [
    "### Intersection"
   ]
  },
  {
   "cell_type": "code",
   "execution_count": 30,
   "id": "eeb79007",
   "metadata": {},
   "outputs": [],
   "source": [
    "A={1,2,3,4,5}\n",
    "B={6,7,8,9,5}"
   ]
  },
  {
   "cell_type": "code",
   "execution_count": 31,
   "id": "ea413655",
   "metadata": {},
   "outputs": [
    {
     "data": {
      "text/plain": [
       "{5}"
      ]
     },
     "execution_count": 31,
     "metadata": {},
     "output_type": "execute_result"
    }
   ],
   "source": [
    "A & B #Intersection is common in both sets."
   ]
  },
  {
   "cell_type": "code",
   "execution_count": 32,
   "id": "1539369b",
   "metadata": {},
   "outputs": [
    {
     "data": {
      "text/plain": [
       "{5}"
      ]
     },
     "execution_count": 32,
     "metadata": {},
     "output_type": "execute_result"
    }
   ],
   "source": [
    "A.intersection(B)"
   ]
  },
  {
   "cell_type": "code",
   "execution_count": 34,
   "id": "cf7d4c19",
   "metadata": {},
   "outputs": [
    {
     "data": {
      "text/plain": [
       "{5}"
      ]
     },
     "execution_count": 34,
     "metadata": {},
     "output_type": "execute_result"
    }
   ],
   "source": [
    "A.intersection_update(B)\n",
    "A"
   ]
  },
  {
   "cell_type": "markdown",
   "id": "a134a734",
   "metadata": {},
   "source": [
    "### Difference"
   ]
  },
  {
   "cell_type": "code",
   "execution_count": 35,
   "id": "611a372f",
   "metadata": {},
   "outputs": [],
   "source": [
    "A={1,2,3,4,5}\n",
    "B={6,7,8,9,5}"
   ]
  },
  {
   "cell_type": "code",
   "execution_count": 36,
   "id": "d7622be4",
   "metadata": {},
   "outputs": [
    {
     "data": {
      "text/plain": [
       "{1, 2, 3, 4}"
      ]
     },
     "execution_count": 36,
     "metadata": {},
     "output_type": "execute_result"
    }
   ],
   "source": [
    "A-B    #set of elements that are only in A but not in B"
   ]
  },
  {
   "cell_type": "code",
   "execution_count": 37,
   "id": "1f58e934",
   "metadata": {},
   "outputs": [
    {
     "data": {
      "text/plain": [
       "{1, 2, 3, 4}"
      ]
     },
     "execution_count": 37,
     "metadata": {},
     "output_type": "execute_result"
    }
   ],
   "source": [
    "A.difference(B)"
   ]
  },
  {
   "cell_type": "code",
   "execution_count": 38,
   "id": "aa33f6e9",
   "metadata": {},
   "outputs": [
    {
     "data": {
      "text/plain": [
       "{6, 7, 8, 9}"
      ]
     },
     "execution_count": 38,
     "metadata": {},
     "output_type": "execute_result"
    }
   ],
   "source": [
    "B-A                      #set of elements that are only in B but not in A"
   ]
  },
  {
   "cell_type": "code",
   "execution_count": 39,
   "id": "ad4c0570",
   "metadata": {},
   "outputs": [
    {
     "data": {
      "text/plain": [
       "{6, 7, 8, 9}"
      ]
     },
     "execution_count": 39,
     "metadata": {},
     "output_type": "execute_result"
    }
   ],
   "source": [
    "B.difference(A)"
   ]
  },
  {
   "cell_type": "code",
   "execution_count": 41,
   "id": "8f835281",
   "metadata": {},
   "outputs": [
    {
     "data": {
      "text/plain": [
       "{6, 7, 8, 9}"
      ]
     },
     "execution_count": 41,
     "metadata": {},
     "output_type": "execute_result"
    }
   ],
   "source": [
    "B.difference_update(A)\n",
    "B"
   ]
  },
  {
   "cell_type": "markdown",
   "id": "474c7fd1",
   "metadata": {},
   "source": [
    "### Symmetric Difference"
   ]
  },
  {
   "cell_type": "code",
   "execution_count": 42,
   "id": "9a63470e",
   "metadata": {},
   "outputs": [],
   "source": [
    "A={1,2,3,4,5}\n",
    "B={6,7,8,9,5,4}"
   ]
  },
  {
   "cell_type": "code",
   "execution_count": 43,
   "id": "15635a8b",
   "metadata": {},
   "outputs": [
    {
     "data": {
      "text/plain": [
       "{1, 2, 3, 6, 7, 8, 9}"
      ]
     },
     "execution_count": 43,
     "metadata": {},
     "output_type": "execute_result"
    }
   ],
   "source": [
    "A^B   #Symmtric Difference(It will print values which is not available in both set)"
   ]
  },
  {
   "cell_type": "code",
   "execution_count": 44,
   "id": "95809ee0",
   "metadata": {},
   "outputs": [
    {
     "data": {
      "text/plain": [
       "{1, 2, 3, 6, 7, 8, 9}"
      ]
     },
     "execution_count": 44,
     "metadata": {},
     "output_type": "execute_result"
    }
   ],
   "source": [
    "A.symmetric_difference(B)"
   ]
  },
  {
   "cell_type": "code",
   "execution_count": 46,
   "id": "04d2895c",
   "metadata": {},
   "outputs": [
    {
     "data": {
      "text/plain": [
       "{1, 2, 3, 4, 5}"
      ]
     },
     "execution_count": 46,
     "metadata": {},
     "output_type": "execute_result"
    }
   ],
   "source": [
    "A.symmetric_difference_update(B)\n",
    "A"
   ]
  },
  {
   "cell_type": "markdown",
   "id": "2e9bb9e3",
   "metadata": {},
   "source": [
    "# Other Built in Function"
   ]
  },
  {
   "cell_type": "code",
   "execution_count": 47,
   "id": "280b1997",
   "metadata": {},
   "outputs": [
    {
     "data": {
      "text/plain": [
       "{1, 2, 3, 4, 5, 6, 7, 8, 9}"
      ]
     },
     "execution_count": 47,
     "metadata": {},
     "output_type": "execute_result"
    }
   ],
   "source": [
    "A={1,2,3,4,5,6,7,8,9}\n",
    "A"
   ]
  },
  {
   "cell_type": "code",
   "execution_count": 48,
   "id": "f2405ee8",
   "metadata": {},
   "outputs": [
    {
     "data": {
      "text/plain": [
       "45"
      ]
     },
     "execution_count": 48,
     "metadata": {},
     "output_type": "execute_result"
    }
   ],
   "source": [
    "sum(A)"
   ]
  },
  {
   "cell_type": "code",
   "execution_count": 49,
   "id": "f14743a9",
   "metadata": {},
   "outputs": [
    {
     "data": {
      "text/plain": [
       "9"
      ]
     },
     "execution_count": 49,
     "metadata": {},
     "output_type": "execute_result"
    }
   ],
   "source": [
    "max(A)"
   ]
  },
  {
   "cell_type": "code",
   "execution_count": 50,
   "id": "d4fcc8db",
   "metadata": {},
   "outputs": [
    {
     "data": {
      "text/plain": [
       "1"
      ]
     },
     "execution_count": 50,
     "metadata": {},
     "output_type": "execute_result"
    }
   ],
   "source": [
    "min(A)"
   ]
  },
  {
   "cell_type": "code",
   "execution_count": 51,
   "id": "ea1b4d50",
   "metadata": {},
   "outputs": [
    {
     "data": {
      "text/plain": [
       "9"
      ]
     },
     "execution_count": 51,
     "metadata": {},
     "output_type": "execute_result"
    }
   ],
   "source": [
    "len(A)"
   ]
  },
  {
   "cell_type": "code",
   "execution_count": 52,
   "id": "18585128",
   "metadata": {},
   "outputs": [
    {
     "data": {
      "text/plain": [
       "[(0, 1), (1, 2), (2, 3), (3, 4), (4, 5), (5, 6), (6, 7), (7, 8), (8, 9)]"
      ]
     },
     "execution_count": 52,
     "metadata": {},
     "output_type": "execute_result"
    }
   ],
   "source": [
    "list(enumerate(A))"
   ]
  },
  {
   "cell_type": "code",
   "execution_count": 53,
   "id": "106e0f2c",
   "metadata": {},
   "outputs": [
    {
     "data": {
      "text/plain": [
       "[9, 8, 7, 6, 5, 4, 3, 2, 1]"
      ]
     },
     "execution_count": 53,
     "metadata": {},
     "output_type": "execute_result"
    }
   ],
   "source": [
    "D=sorted(A,reverse=True)\n",
    "D"
   ]
  },
  {
   "cell_type": "code",
   "execution_count": 54,
   "id": "04a82c7a",
   "metadata": {},
   "outputs": [
    {
     "data": {
      "text/plain": [
       "[1, 2, 3, 4, 5, 6, 7, 8, 9]"
      ]
     },
     "execution_count": 54,
     "metadata": {},
     "output_type": "execute_result"
    }
   ],
   "source": [
    "sorted(D)"
   ]
  },
  {
   "cell_type": "code",
   "execution_count": null,
   "id": "df4bd44e",
   "metadata": {},
   "outputs": [],
   "source": []
  }
 ],
 "metadata": {
  "kernelspec": {
   "display_name": "Python 3 (ipykernel)",
   "language": "python",
   "name": "python3"
  },
  "language_info": {
   "codemirror_mode": {
    "name": "ipython",
    "version": 3
   },
   "file_extension": ".py",
   "mimetype": "text/x-python",
   "name": "python",
   "nbconvert_exporter": "python",
   "pygments_lexer": "ipython3",
   "version": "3.9.12"
  }
 },
 "nbformat": 4,
 "nbformat_minor": 5
}
